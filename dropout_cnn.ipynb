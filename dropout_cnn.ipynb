{
  "cells": [
    {
      "cell_type": "code",
      "execution_count": 1,
      "metadata": {
        "colab": {
          "base_uri": "https://localhost:8080/"
        },
        "id": "KlwSaX9akGfG",
        "outputId": "6dd758de-1028-424c-8756-3f0617a52b8a"
      },
      "outputs": [
        {
          "output_type": "stream",
          "name": "stdout",
          "text": [
            "Requirement already satisfied: kaggle in /usr/local/lib/python3.11/dist-packages (1.7.4.5)\n",
            "Requirement already satisfied: bleach in /usr/local/lib/python3.11/dist-packages (from kaggle) (6.2.0)\n",
            "Requirement already satisfied: certifi>=14.05.14 in /usr/local/lib/python3.11/dist-packages (from kaggle) (2025.4.26)\n",
            "Requirement already satisfied: charset-normalizer in /usr/local/lib/python3.11/dist-packages (from kaggle) (3.4.2)\n",
            "Requirement already satisfied: idna in /usr/local/lib/python3.11/dist-packages (from kaggle) (3.10)\n",
            "Requirement already satisfied: protobuf in /usr/local/lib/python3.11/dist-packages (from kaggle) (5.29.5)\n",
            "Requirement already satisfied: python-dateutil>=2.5.3 in /usr/local/lib/python3.11/dist-packages (from kaggle) (2.9.0.post0)\n",
            "Requirement already satisfied: python-slugify in /usr/local/lib/python3.11/dist-packages (from kaggle) (8.0.4)\n",
            "Requirement already satisfied: requests in /usr/local/lib/python3.11/dist-packages (from kaggle) (2.32.3)\n",
            "Requirement already satisfied: setuptools>=21.0.0 in /usr/local/lib/python3.11/dist-packages (from kaggle) (75.2.0)\n",
            "Requirement already satisfied: six>=1.10 in /usr/local/lib/python3.11/dist-packages (from kaggle) (1.17.0)\n",
            "Requirement already satisfied: text-unidecode in /usr/local/lib/python3.11/dist-packages (from kaggle) (1.3)\n",
            "Requirement already satisfied: tqdm in /usr/local/lib/python3.11/dist-packages (from kaggle) (4.67.1)\n",
            "Requirement already satisfied: urllib3>=1.15.1 in /usr/local/lib/python3.11/dist-packages (from kaggle) (2.4.0)\n",
            "Requirement already satisfied: webencodings in /usr/local/lib/python3.11/dist-packages (from kaggle) (0.5.1)\n"
          ]
        }
      ],
      "source": [
        "! pip install kaggle"
      ]
    },
    {
      "cell_type": "code",
      "execution_count": 2,
      "metadata": {
        "colab": {
          "base_uri": "https://localhost:8080/"
        },
        "id": "NGineQt7dErh",
        "outputId": "6076c559-13df-48d9-b383-25b89e11ecd2"
      },
      "outputs": [
        {
          "output_type": "stream",
          "name": "stdout",
          "text": [
            "Mounted at /content/drive\n"
          ]
        }
      ],
      "source": [
        "from google.colab import drive\n",
        "drive.mount('/content/drive')"
      ]
    },
    {
      "cell_type": "code",
      "execution_count": 3,
      "metadata": {
        "colab": {
          "base_uri": "https://localhost:8080/"
        },
        "id": "dAs9oVnNoziL",
        "outputId": "b3adec6e-5867-4d95-ab35-5f983c04b6c5"
      },
      "outputs": [
        {
          "output_type": "stream",
          "name": "stdout",
          "text": [
            "Archive:  /content/drive/MyDrive/Assignment4/train.csv.zip\n",
            "  inflating: train.csv               \n"
          ]
        }
      ],
      "source": [
        "! unzip /content/drive/MyDrive/Assignment4/train.csv.zip"
      ]
    },
    {
      "cell_type": "code",
      "execution_count": 4,
      "metadata": {
        "colab": {
          "base_uri": "https://localhost:8080/"
        },
        "id": "89f2pVVYV7HY",
        "outputId": "b5fcb702-a29d-4ba4-b00d-4b80e48cff76"
      },
      "outputs": [
        {
          "output_type": "stream",
          "name": "stdout",
          "text": [
            "Archive:  /content/drive/MyDrive/Assignment4/test.csv.zip\n",
            "  inflating: test.csv                \n"
          ]
        }
      ],
      "source": [
        "! unzip /content/drive/MyDrive/Assignment4/test.csv.zip"
      ]
    },
    {
      "cell_type": "code",
      "execution_count": 5,
      "metadata": {
        "colab": {
          "base_uri": "https://localhost:8080/"
        },
        "id": "YsMoiYlkWbHi",
        "outputId": "dd6f4f4a-3864-4004-db0b-65e1563c06b6"
      },
      "outputs": [
        {
          "output_type": "stream",
          "name": "stdout",
          "text": [
            "Device available:  cuda\n"
          ]
        }
      ],
      "source": [
        "import torch # Main PyTorch Library\n",
        "from torch import nn # Used for creating the layers and loss function\n",
        "from torch.optim import Adam # Adam Optimizer\n",
        "import torchvision.transforms as transforms # Transform function used to modify and preprocess all the images\n",
        "from torch.utils.data import Dataset, DataLoader # Dataset class and DataLoader for creating the objects\n",
        "from sklearn.preprocessing import LabelEncoder # Label Encoder to encode the classes from strings to numbers\n",
        "import matplotlib.pyplot as plt # Used for visualizing the images and plotting the training progress\n",
        "from PIL import Image # Used to read the images from the directory\n",
        "import pandas as pd # Used to read/create dataframes (csv) and process tabular data\n",
        "import numpy as np # preprocessing and numerical/mathematical operations\n",
        "import os # Used to read the images path from the directory\n",
        "\n",
        "device = \"cuda\" if torch.cuda.is_available() else \"cpu\" # detect the GPU if any, if not use CPU, change cuda to mps if you have a mac\n",
        "print(\"Device available: \", device)"
      ]
    },
    {
      "cell_type": "code",
      "execution_count": 6,
      "metadata": {
        "colab": {
          "base_uri": "https://localhost:8080/"
        },
        "id": "7lYOoWxeF0DS",
        "outputId": "e24c0c36-7e7c-4bbc-f677-cea0787be0fa"
      },
      "outputs": [
        {
          "output_type": "stream",
          "name": "stdout",
          "text": [
            "Images shape: (28709, 48, 48)\n",
            "Labels shape: (28709,)\n"
          ]
        }
      ],
      "source": [
        "df = pd.read_csv('/content/train.csv')\n",
        "\n",
        "def process_pixels(pixel_str):\n",
        "    pixels = np.fromstring(pixel_str, sep=' ', dtype=np.uint8)\n",
        "    return pixels.reshape(48, 48)\n",
        "\n",
        "images = np.array([process_pixels(p) for p in df['pixels']])\n",
        "labels = df['emotion'].values\n",
        "\n",
        "print(\"Images shape:\", images.shape)\n",
        "print(\"Labels shape:\", labels.shape)\n"
      ]
    },
    {
      "cell_type": "code",
      "execution_count": 7,
      "metadata": {
        "id": "XnYPDGgbWoJp"
      },
      "outputs": [],
      "source": [
        "from sklearn.model_selection import train_test_split\n",
        "\n",
        "X_train, X_temp, y_train, y_temp = train_test_split(images, labels, test_size=0.3, random_state=7, stratify=labels)\n",
        "\n",
        "X_val, X_test, y_val, y_test = train_test_split(X_temp, y_temp, test_size=0.5, random_state=7, stratify=y_temp)"
      ]
    },
    {
      "cell_type": "code",
      "execution_count": 8,
      "metadata": {
        "id": "LugPvoEOWrew"
      },
      "outputs": [],
      "source": [
        "transform = transforms.Compose([\n",
        "    transforms.ToTensor(),\n",
        "    transforms.Normalize((0.5,), (0.5,))\n",
        "])"
      ]
    },
    {
      "cell_type": "code",
      "execution_count": 9,
      "metadata": {
        "id": "KOjaT4RRW1b0"
      },
      "outputs": [],
      "source": [
        "class CustomImageDataset(Dataset):\n",
        "    def __init__(self, images, labels, transform=None):\n",
        "        self.images = images\n",
        "        self.labels = labels\n",
        "        self.transform = transform\n",
        "\n",
        "    def __len__(self):\n",
        "        return len(self.images)\n",
        "\n",
        "    def __getitem__(self, idx):\n",
        "        image = self.images[idx]\n",
        "        label = self.labels[idx]\n",
        "        image = Image.fromarray(image.astype(np.uint8), mode='L')\n",
        "        if self.transform:\n",
        "            image = self.transform(image)\n",
        "        return image, label"
      ]
    },
    {
      "cell_type": "code",
      "execution_count": 10,
      "metadata": {
        "id": "ZlnLfj7KW8eq"
      },
      "outputs": [],
      "source": [
        "train_dataset = CustomImageDataset(X_train, y_train, transform=transform)\n",
        "val_dataset = CustomImageDataset(X_val, y_val, transform=transform)\n",
        "test_dataset = CustomImageDataset(X_test, y_test, transform=transform)"
      ]
    },
    {
      "cell_type": "code",
      "execution_count": 97,
      "metadata": {
        "id": "4TDDBnRvX25w"
      },
      "outputs": [],
      "source": [
        "LR = 1e-3\n",
        "BATCH_SIZE = 16\n",
        "EPOCHS = 20"
      ]
    },
    {
      "cell_type": "code",
      "execution_count": 98,
      "metadata": {
        "id": "IJ3HJohiYYCn"
      },
      "outputs": [],
      "source": [
        "train_loader = DataLoader(train_dataset, batch_size=BATCH_SIZE, shuffle=True)\n",
        "val_loader = DataLoader(val_dataset, batch_size=BATCH_SIZE, shuffle=True)\n",
        "test_loader = DataLoader(test_dataset, batch_size=BATCH_SIZE, shuffle=True)"
      ]
    },
    {
      "cell_type": "code",
      "execution_count": 99,
      "metadata": {
        "colab": {
          "base_uri": "https://localhost:8080/",
          "height": 607
        },
        "id": "Hluc7J39W8-n",
        "outputId": "c82b41ac-1c38-42cb-e459-d8db7c928c9a"
      },
      "outputs": [
        {
          "output_type": "display_data",
          "data": {
            "text/plain": [
              "<Figure size 600x600 with 9 Axes>"
            ],
            "image/png": "[encoded data removed]"
          },
          "metadata": {}
        }
      ],
      "source": [
        "n_rows = 3\n",
        "n_cols = 3\n",
        "f, axarr = plt.subplots(n_rows, n_cols, figsize=(6, 6))\n",
        "\n",
        "for row in range(n_rows):\n",
        "    for col in range(n_cols):\n",
        "        idx = np.random.randint(len(X_train))\n",
        "        image = X_train[idx]\n",
        "        label = y_train[idx]\n",
        "\n",
        "        axarr[row, col].imshow(image, cmap='gray')\n",
        "        axarr[row, col].set_title(f\"Label: {label}\")\n",
        "        axarr[row, col].axis('off')\n",
        "\n",
        "plt.tight_layout()\n",
        "plt.show()"
      ]
    },
    {
      "cell_type": "code",
      "execution_count": 100,
      "metadata": {
        "id": "zL_mMnnlXDGX"
      },
      "outputs": [],
      "source": [
        "class DropoutCNN(nn.Module):\n",
        "    def __init__(self):\n",
        "        super().__init__()\n",
        "        self.net = nn.Sequential(\n",
        "            nn.Conv2d(1, 32, 3, padding=1), nn.ReLU(),\n",
        "            nn.MaxPool2d(2),\n",
        "            nn.Dropout(0.25),\n",
        "            nn.Conv2d(32, 64, 3, padding=1), nn.ReLU(),\n",
        "            nn.MaxPool2d(2),\n",
        "            nn.Dropout(0.25),\n",
        "            nn.Flatten(),\n",
        "            nn.Linear(64 * 12 * 12, 128),\n",
        "            nn.ReLU(),\n",
        "            nn.Dropout(0.5),\n",
        "            nn.Linear(128, 7)\n",
        "        )\n",
        "\n",
        "    def forward(self, x):\n",
        "        return self.net(x)\n"
      ]
    },
    {
      "cell_type": "code",
      "source": [
        "class LessDropoutCNN(nn.Module):\n",
        "    def __init__(self):\n",
        "        super().__init__()\n",
        "        self.net = nn.Sequential(\n",
        "            nn.Conv2d(1, 32, 3, padding=1), nn.ReLU(),\n",
        "            nn.MaxPool2d(2),\n",
        "\n",
        "            nn.Conv2d(32, 64, 3, padding=1), nn.ReLU(),\n",
        "            nn.MaxPool2d(2),\n",
        "\n",
        "            nn.Flatten(),\n",
        "            nn.Dropout(0.25),\n",
        "            nn.Linear(64 * 12 * 12, 128), nn.ReLU(),\n",
        "            nn.Dropout(0.5),\n",
        "            nn.Linear(128, 7)\n",
        "        )\n",
        "\n",
        "    def forward(self, x):\n",
        "        return self.net(x)\n"
      ],
      "metadata": {
        "id": "qVTjk_KZwZz_"
      },
      "execution_count": 111,
      "outputs": []
    },
    {
      "cell_type": "code",
      "execution_count": 112,
      "metadata": {
        "id": "60RSw7wIKX5_"
      },
      "outputs": [],
      "source": [
        "model = LessDropoutCNN().to(device)\n",
        "model = model.to(device)"
      ]
    },
    {
      "cell_type": "code",
      "execution_count": 113,
      "metadata": {
        "colab": {
          "base_uri": "https://localhost:8080/"
        },
        "id": "cUFMdM2tXU7R",
        "outputId": "69105ff1-1491-482e-9524-812f25708132"
      },
      "outputs": [
        {
          "output_type": "stream",
          "name": "stdout",
          "text": [
            "----------------------------------------------------------------\n",
            "        Layer (type)               Output Shape         Param #\n",
            "================================================================\n",
            "            Conv2d-1           [-1, 32, 48, 48]             320\n",
            "              ReLU-2           [-1, 32, 48, 48]               0\n",
            "         MaxPool2d-3           [-1, 32, 24, 24]               0\n",
            "            Conv2d-4           [-1, 64, 24, 24]          18,496\n",
            "              ReLU-5           [-1, 64, 24, 24]               0\n",
            "         MaxPool2d-6           [-1, 64, 12, 12]               0\n",
            "           Flatten-7                 [-1, 9216]               0\n",
            "           Dropout-8                 [-1, 9216]               0\n",
            "            Linear-9                  [-1, 128]       1,179,776\n",
            "             ReLU-10                  [-1, 128]               0\n",
            "          Dropout-11                  [-1, 128]               0\n",
            "           Linear-12                    [-1, 7]             903\n",
            "================================================================\n",
            "Total params: 1,199,495\n",
            "Trainable params: 1,199,495\n",
            "Non-trainable params: 0\n",
            "----------------------------------------------------------------\n",
            "Input size (MB): 0.01\n",
            "Forward/backward pass size (MB): 2.04\n",
            "Params size (MB): 4.58\n",
            "Estimated Total Size (MB): 6.63\n",
            "----------------------------------------------------------------\n"
          ]
        }
      ],
      "source": [
        "from torchsummary import summary\n",
        "summary(model, input_size=(1, 48, 48))"
      ]
    },
    {
      "cell_type": "code",
      "execution_count": 114,
      "metadata": {
        "id": "q3qAG9HDXnWu"
      },
      "outputs": [],
      "source": [
        "criterion = nn.CrossEntropyLoss()\n",
        "optimizer = Adam(model.parameters(), lr=LR, weight_decay=1e-5)"
      ]
    },
    {
      "cell_type": "code",
      "execution_count": 110,
      "metadata": {
        "colab": {
          "base_uri": "https://localhost:8080/"
        },
        "id": "bxojp-v5Xy7o",
        "outputId": "68578661-ff1d-455a-9693-711559717ea9"
      },
      "outputs": [
        {
          "output_type": "stream",
          "name": "stdout",
          "text": [
            "Epoch 1/20\n",
            "    Train Loss: 1.7145 | Train Accuracy: 30.62%\n",
            "    Val Loss: 1.5751 | Val Accuracy: 37.76%\n",
            "==============================\n",
            "Epoch 2/20\n",
            "    Train Loss: 1.5535 | Train Accuracy: 39.41%\n",
            "    Val Loss: 1.4887 | Val Accuracy: 42.2%\n",
            "==============================\n",
            "Epoch 3/20\n",
            "    Train Loss: 1.4839 | Train Accuracy: 42.67%\n",
            "    Val Loss: 1.4261 | Val Accuracy: 44.5%\n",
            "==============================\n",
            "Epoch 4/20\n",
            "    Train Loss: 1.4385 | Train Accuracy: 44.68%\n",
            "    Val Loss: 1.4067 | Val Accuracy: 45.05%\n",
            "==============================\n",
            "Epoch 5/20\n",
            "    Train Loss: 1.3932 | Train Accuracy: 46.27%\n",
            "    Val Loss: 1.3722 | Val Accuracy: 46.66%\n",
            "==============================\n",
            "Epoch 6/20\n",
            "    Train Loss: 1.3713 | Train Accuracy: 47.39%\n",
            "    Val Loss: 1.3743 | Val Accuracy: 47.17%\n",
            "==============================\n",
            "Epoch 7/20\n",
            "    Train Loss: 1.3476 | Train Accuracy: 48.49%\n",
            "    Val Loss: 1.3495 | Val Accuracy: 47.38%\n",
            "==============================\n",
            "Epoch 8/20\n",
            "    Train Loss: 1.3231 | Train Accuracy: 49.02%\n",
            "    Val Loss: 1.3308 | Val Accuracy: 48.28%\n",
            "==============================\n",
            "Epoch 9/20\n",
            "    Train Loss: 1.3016 | Train Accuracy: 50.16%\n",
            "    Val Loss: 1.3524 | Val Accuracy: 49.07%\n",
            "==============================\n",
            "Epoch 10/20\n",
            "    Train Loss: 1.2763 | Train Accuracy: 51.06%\n",
            "    Val Loss: 1.3374 | Val Accuracy: 48.93%\n",
            "==============================\n",
            "Epoch 11/20\n",
            "    Train Loss: 1.2525 | Train Accuracy: 51.62%\n",
            "    Val Loss: 1.3002 | Val Accuracy: 49.98%\n",
            "==============================\n",
            "Epoch 12/20\n",
            "    Train Loss: 1.229 | Train Accuracy: 52.61%\n",
            "    Val Loss: 1.3156 | Val Accuracy: 48.79%\n",
            "==============================\n",
            "Epoch 13/20\n",
            "    Train Loss: 1.2058 | Train Accuracy: 53.76%\n",
            "    Val Loss: 1.3016 | Val Accuracy: 49.91%\n",
            "==============================\n",
            "Epoch 14/20\n",
            "    Train Loss: 1.1857 | Train Accuracy: 54.37%\n",
            "    Val Loss: 1.2986 | Val Accuracy: 49.58%\n",
            "==============================\n",
            "Epoch 15/20\n",
            "    Train Loss: 1.1641 | Train Accuracy: 55.39%\n",
            "    Val Loss: 1.2997 | Val Accuracy: 50.28%\n",
            "==============================\n",
            "Epoch 16/20\n",
            "    Train Loss: 1.1561 | Train Accuracy: 55.71%\n",
            "    Val Loss: 1.3011 | Val Accuracy: 49.93%\n",
            "==============================\n",
            "Epoch 17/20\n",
            "    Train Loss: 1.1312 | Train Accuracy: 56.46%\n",
            "    Val Loss: 1.3082 | Val Accuracy: 50.23%\n",
            "==============================\n",
            "Epoch 18/20\n",
            "    Train Loss: 1.1153 | Train Accuracy: 57.11%\n",
            "    Val Loss: 1.3003 | Val Accuracy: 50.74%\n",
            "==============================\n",
            "Epoch 19/20\n",
            "    Train Loss: 1.0959 | Train Accuracy: 58.13%\n",
            "    Val Loss: 1.3005 | Val Accuracy: 50.79%\n",
            "==============================\n",
            "Epoch 20/20\n",
            "    Train Loss: 1.0873 | Train Accuracy: 58.13%\n",
            "    Val Loss: 1.3017 | Val Accuracy: 51.28%\n",
            "==============================\n"
          ]
        }
      ],
      "source": [
        "total_loss_train_plot = []\n",
        "total_loss_validation_plot = []\n",
        "total_acc_train_plot = []\n",
        "total_acc_validation_plot = []\n",
        "\n",
        "for epoch in range(EPOCHS):\n",
        "    total_acc_train = 0\n",
        "    total_loss_train = 0\n",
        "    total_loss_val = 0\n",
        "    total_acc_val = 0\n",
        "\n",
        "    model.train()\n",
        "    for inputs, labels in train_loader:\n",
        "        inputs, labels = inputs.to(device), labels.to(device)\n",
        "\n",
        "        optimizer.zero_grad()\n",
        "        outputs = model(inputs)\n",
        "        train_loss = criterion(outputs, labels)\n",
        "        total_loss_train += train_loss.item()\n",
        "        train_loss.backward()\n",
        "        optimizer.step()\n",
        "\n",
        "        train_acc = (outputs.argmax(1) == labels).sum().item()\n",
        "        total_acc_train += train_acc\n",
        "\n",
        "    model.eval()\n",
        "    with torch.no_grad():\n",
        "        for inputs, labels in val_loader:\n",
        "            inputs, labels = inputs.to(device), labels.to(device)\n",
        "\n",
        "            outputs = model(inputs)\n",
        "            val_loss = criterion(outputs, labels)\n",
        "            total_loss_val += val_loss.item()\n",
        "\n",
        "            val_acc = (outputs.argmax(1) == labels).sum().item()\n",
        "            total_acc_val += val_acc\n",
        "\n",
        "    train_size = len(train_dataset)\n",
        "    val_size = len(val_dataset)\n",
        "\n",
        "    total_loss_train_plot.append(round(total_loss_train / len(train_loader), 4))\n",
        "    total_loss_validation_plot.append(round(total_loss_val / len(val_loader), 4))\n",
        "    total_acc_train_plot.append(round(total_acc_train / train_size * 100, 2))\n",
        "    total_acc_validation_plot.append(round(total_acc_val / val_size * 100, 2))\n",
        "\n",
        "    print(f'''Epoch {epoch+1}/{EPOCHS}\n",
        "    Train Loss: {round(total_loss_train / len(train_loader), 4)} | Train Accuracy: {round(total_acc_train / train_size * 100, 2)}%\n",
        "    Val Loss: {round(total_loss_val / len(val_loader), 4)} | Val Accuracy: {round(total_acc_val / val_size * 100, 2)}%''')\n",
        "    print(\"=\"*30)\n"
      ]
    },
    {
      "cell_type": "code",
      "execution_count": 105,
      "metadata": {
        "colab": {
          "base_uri": "https://localhost:8080/"
        },
        "id": "kro7E4bAYNJy",
        "outputId": "6da8ba99-8b6b-4bb1-dabd-ab9b24650949"
      },
      "outputs": [
        {
          "output_type": "stream",
          "name": "stdout",
          "text": [
            "Test Accuracy: 51.61%\n",
            "Test Loss: 1.2898\n"
          ]
        }
      ],
      "source": [
        "with torch.no_grad():\n",
        "    model.eval()\n",
        "    total_loss_test = 0\n",
        "    total_acc_test = 0\n",
        "\n",
        "    for inputs, labels in test_loader:\n",
        "        inputs, labels = inputs.to(device), labels.to(device)\n",
        "\n",
        "        predictions = model(inputs)\n",
        "\n",
        "        acc = (predictions.argmax(1) == labels).sum().item()\n",
        "        total_acc_test += acc\n",
        "\n",
        "        test_loss = criterion(predictions, labels)\n",
        "        total_loss_test += test_loss.item()\n",
        "\n",
        "test_size = len(test_dataset)\n",
        "average_loss = round(total_loss_test / len(test_loader), 4)\n",
        "accuracy = round((total_acc_test / test_size) * 100, 2)\n",
        "\n",
        "print(f\"Test Accuracy: {accuracy}%\")\n",
        "print(f\"Test Loss: {average_loss}\")\n"
      ]
    },
    {
      "cell_type": "code",
      "execution_count": null,
      "metadata": {
        "colab": {
          "base_uri": "https://localhost:8080/",
          "height": 383
        },
        "id": "2kY96xwCZh0Q",
        "outputId": "4e038169-b3a8-4fa9-d889-0a1ffb0e4e91"
      },
      "outputs": [
        {
          "data": {
            "image/png": "[encoded data removed]",
            "text/plain": [
              "<Figure size 1500x500 with 2 Axes>"
            ]
          },
          "metadata": {},
          "output_type": "display_data"
        }
      ],
      "source": [
        "fig, axs = plt.subplots(nrows=1, ncols=2, figsize=(15, 5))\n",
        "\n",
        "axs[0].plot(total_loss_train_plot, label='Training Loss')\n",
        "axs[0].plot(total_loss_validation_plot, label='Validation Loss')\n",
        "axs[0].set_title('Training and Validation Loss over Epochs')\n",
        "axs[0].set_xlabel('Epochs')\n",
        "axs[0].set_ylabel('Loss')\n",
        "axs[0].legend()\n",
        "\n",
        "axs[1].plot(total_acc_train_plot, label='Training Accuracy')\n",
        "axs[1].plot(total_acc_validation_plot, label='Validation Accuracy')\n",
        "axs[1].set_title('Training and Validation Accuracy over Epochs')\n",
        "axs[1].set_xlabel('Epochs')\n",
        "axs[1].set_ylabel('Accuracy')\n",
        "axs[1].legend()\n",
        "\n",
        "plt.tight_layout()\n",
        "\n",
        "plt.show()"
      ]
    },
    {
      "cell_type": "code",
      "execution_count": 28,
      "metadata": {
        "colab": {
          "base_uri": "https://localhost:8080/"
        },
        "id": "Kl6ithQfZsgk",
        "outputId": "e103d9d3-e2e5-4843-e81e-b6b1c3e31497"
      },
      "outputs": [
        {
          "output_type": "stream",
          "name": "stdout",
          "text": [
            "Requirement already satisfied: wandb in /usr/local/lib/python3.11/dist-packages (0.19.11)\n",
            "Requirement already satisfied: click!=8.0.0,>=7.1 in /usr/local/lib/python3.11/dist-packages (from wandb) (8.2.1)\n",
            "Requirement already satisfied: docker-pycreds>=0.4.0 in /usr/local/lib/python3.11/dist-packages (from wandb) (0.4.0)\n",
            "Requirement already satisfied: gitpython!=3.1.29,>=1.0.0 in /usr/local/lib/python3.11/dist-packages (from wandb) (3.1.44)\n",
            "Requirement already satisfied: platformdirs in /usr/local/lib/python3.11/dist-packages (from wandb) (4.3.8)\n",
            "Requirement already satisfied: protobuf!=4.21.0,!=5.28.0,<7,>=3.19.0 in /usr/local/lib/python3.11/dist-packages (from wandb) (5.29.5)\n",
            "Requirement already satisfied: psutil>=5.0.0 in /usr/local/lib/python3.11/dist-packages (from wandb) (5.9.5)\n",
            "Requirement already satisfied: pydantic<3 in /usr/local/lib/python3.11/dist-packages (from wandb) (2.11.5)\n",
            "Requirement already satisfied: pyyaml in /usr/local/lib/python3.11/dist-packages (from wandb) (6.0.2)\n",
            "Requirement already satisfied: requests<3,>=2.0.0 in /usr/local/lib/python3.11/dist-packages (from wandb) (2.32.3)\n",
            "Requirement already satisfied: sentry-sdk>=2.0.0 in /usr/local/lib/python3.11/dist-packages (from wandb) (2.29.1)\n",
            "Requirement already satisfied: setproctitle in /usr/local/lib/python3.11/dist-packages (from wandb) (1.3.6)\n",
            "Requirement already satisfied: setuptools in /usr/local/lib/python3.11/dist-packages (from wandb) (75.2.0)\n",
            "Requirement already satisfied: typing-extensions<5,>=4.4 in /usr/local/lib/python3.11/dist-packages (from wandb) (4.14.0)\n",
            "Requirement already satisfied: six>=1.4.0 in /usr/local/lib/python3.11/dist-packages (from docker-pycreds>=0.4.0->wandb) (1.17.0)\n",
            "Requirement already satisfied: gitdb<5,>=4.0.1 in /usr/local/lib/python3.11/dist-packages (from gitpython!=3.1.29,>=1.0.0->wandb) (4.0.12)\n",
            "Requirement already satisfied: annotated-types>=0.6.0 in /usr/local/lib/python3.11/dist-packages (from pydantic<3->wandb) (0.7.0)\n",
            "Requirement already satisfied: pydantic-core==2.33.2 in /usr/local/lib/python3.11/dist-packages (from pydantic<3->wandb) (2.33.2)\n",
            "Requirement already satisfied: typing-inspection>=0.4.0 in /usr/local/lib/python3.11/dist-packages (from pydantic<3->wandb) (0.4.1)\n",
            "Requirement already satisfied: charset-normalizer<4,>=2 in /usr/local/lib/python3.11/dist-packages (from requests<3,>=2.0.0->wandb) (3.4.2)\n",
            "Requirement already satisfied: idna<4,>=2.5 in /usr/local/lib/python3.11/dist-packages (from requests<3,>=2.0.0->wandb) (3.10)\n",
            "Requirement already satisfied: urllib3<3,>=1.21.1 in /usr/local/lib/python3.11/dist-packages (from requests<3,>=2.0.0->wandb) (2.4.0)\n",
            "Requirement already satisfied: certifi>=2017.4.17 in /usr/local/lib/python3.11/dist-packages (from requests<3,>=2.0.0->wandb) (2025.4.26)\n",
            "Requirement already satisfied: smmap<6,>=3.0.1 in /usr/local/lib/python3.11/dist-packages (from gitdb<5,>=4.0.1->gitpython!=3.1.29,>=1.0.0->wandb) (5.0.2)\n"
          ]
        }
      ],
      "source": [
        "!pip install wandb\n",
        "import wandb"
      ]
    },
    {
      "cell_type": "code",
      "execution_count": 29,
      "metadata": {
        "colab": {
          "base_uri": "https://localhost:8080/"
        },
        "id": "MKjDDyExaloc",
        "outputId": "d7e7ecb4-3f5d-482b-c68d-41318b7b7d05"
      },
      "outputs": [
        {
          "output_type": "stream",
          "name": "stdout",
          "text": [
            "\u001b[34m\u001b[1mwandb\u001b[0m: \u001b[33mWARNING\u001b[0m Using legacy-service, which is deprecated. If this is unintentional, you can fix it by ensuring you do not call `wandb.require('legacy-service')` and do not set the WANDB_X_REQUIRE_LEGACY_SERVICE environment variable.\n",
            "\u001b[34m\u001b[1mwandb\u001b[0m: Logging into wandb.ai. (Learn how to deploy a W&B server locally: https://wandb.me/wandb-server)\n",
            "\u001b[34m\u001b[1mwandb\u001b[0m: You can find your API key in your browser here: https://wandb.ai/authorize?ref=models\n",
            "\u001b[34m\u001b[1mwandb\u001b[0m: Paste an API key from your profile and hit enter, or press ctrl+c to quit: \n",
            "\u001b[34m\u001b[1mwandb\u001b[0m: No netrc file found, creating one.\n",
            "\u001b[34m\u001b[1mwandb\u001b[0m: Appending key for api.wandb.ai to your netrc file: /root/.netrc\n",
            "\u001b[34m\u001b[1mwandb\u001b[0m: Currently logged in as: \u001b[33mgbend22\u001b[0m (\u001b[33mgbend22-free-university-of-tbilisi-\u001b[0m) to \u001b[32mhttps://api.wandb.ai\u001b[0m. Use \u001b[1m`wandb login --relogin`\u001b[0m to force relogin\n"
          ]
        }
      ],
      "source": [
        "!wandb login"
      ]
    },
    {
      "cell_type": "code",
      "execution_count": 116,
      "metadata": {
        "colab": {
          "base_uri": "https://localhost:8080/",
          "height": 918
        },
        "id": "OUUU3fHtaqev",
        "outputId": "fe33b461-417c-49db-b5fc-d6bf3a0d364a"
      },
      "outputs": [
        {
          "output_type": "display_data",
          "data": {
            "text/plain": [
              "<IPython.core.display.HTML object>"
            ],
            "text/html": [
              "Tracking run with wandb version 0.19.11"
            ]
          },
          "metadata": {}
        },
        {
          "output_type": "display_data",
          "data": {
            "text/plain": [
              "<IPython.core.display.HTML object>"
            ],
            "text/html": [
              "Run data is saved locally in <code>/content/wandb/run-20250607_094308-vqettrxj</code>"
            ]
          },
          "metadata": {}
        },
        {
          "output_type": "display_data",
          "data": {
            "text/plain": [
              "<IPython.core.display.HTML object>"
            ],
            "text/html": [
              "Syncing run <strong><a href='https://wandb.ai/gbend22-free-university-of-tbilisi-/ml-homework-4/runs/vqettrxj' target=\"_blank\">high-epochs+less-dropout</a></strong> to <a href='https://wandb.ai/gbend22-free-university-of-tbilisi-/ml-homework-4' target=\"_blank\">Weights & Biases</a> (<a href='https://wandb.me/developer-guide' target=\"_blank\">docs</a>)<br>"
            ]
          },
          "metadata": {}
        },
        {
          "output_type": "display_data",
          "data": {
            "text/plain": [
              "<IPython.core.display.HTML object>"
            ],
            "text/html": [
              " View project at <a href='https://wandb.ai/gbend22-free-university-of-tbilisi-/ml-homework-4' target=\"_blank\">https://wandb.ai/gbend22-free-university-of-tbilisi-/ml-homework-4</a>"
            ]
          },
          "metadata": {}
        },
        {
          "output_type": "display_data",
          "data": {
            "text/plain": [
              "<IPython.core.display.HTML object>"
            ],
            "text/html": [
              " View run at <a href='https://wandb.ai/gbend22-free-university-of-tbilisi-/ml-homework-4/runs/vqettrxj' target=\"_blank\">https://wandb.ai/gbend22-free-university-of-tbilisi-/ml-homework-4/runs/vqettrxj</a>"
            ]
          },
          "metadata": {}
        },
        {
          "output_type": "stream",
          "name": "stdout",
          "text": [
            "Epoch 1: Train Loss = 1.6960, Val Loss = 1.5615, Train Acc = 0.3232, Val Acc = 0.3823\n",
            "Epoch 2: Train Loss = 1.5420, Val Loss = 1.4624, Train Acc = 0.4039, Val Acc = 0.4313\n",
            "Epoch 3: Train Loss = 1.4737, Val Loss = 1.4173, Train Acc = 0.4342, Val Acc = 0.4522\n",
            "Epoch 4: Train Loss = 1.4139, Val Loss = 1.3846, Train Acc = 0.4613, Val Acc = 0.4663\n",
            "Epoch 5: Train Loss = 1.3674, Val Loss = 1.3655, Train Acc = 0.4751, Val Acc = 0.4768\n",
            "Epoch 6: Train Loss = 1.3305, Val Loss = 1.3299, Train Acc = 0.4883, Val Acc = 0.4868\n",
            "Epoch 7: Train Loss = 1.3127, Val Loss = 1.3335, Train Acc = 0.4982, Val Acc = 0.4919\n",
            "Epoch 8: Train Loss = 1.2864, Val Loss = 1.3132, Train Acc = 0.5094, Val Acc = 0.4921\n",
            "Epoch 9: Train Loss = 1.2602, Val Loss = 1.3073, Train Acc = 0.5153, Val Acc = 0.4961\n",
            "Epoch 10: Train Loss = 1.2399, Val Loss = 1.3004, Train Acc = 0.5226, Val Acc = 0.5074\n",
            "Epoch 11: Train Loss = 1.2204, Val Loss = 1.3061, Train Acc = 0.5322, Val Acc = 0.5049\n",
            "Epoch 12: Train Loss = 1.1908, Val Loss = 1.3067, Train Acc = 0.5435, Val Acc = 0.5137\n",
            "Epoch 13: Train Loss = 1.1655, Val Loss = 1.3112, Train Acc = 0.5583, Val Acc = 0.5100\n",
            "Epoch 14: Train Loss = 1.1416, Val Loss = 1.2867, Train Acc = 0.5621, Val Acc = 0.5156\n",
            "Epoch 15: Train Loss = 1.1109, Val Loss = 1.3173, Train Acc = 0.5762, Val Acc = 0.5137\n",
            "Epoch 16: Train Loss = 1.0904, Val Loss = 1.3092, Train Acc = 0.5862, Val Acc = 0.5218\n",
            "Epoch 17: Train Loss = 1.0697, Val Loss = 1.2891, Train Acc = 0.5954, Val Acc = 0.5258\n",
            "Epoch 18: Train Loss = 1.0425, Val Loss = 1.2939, Train Acc = 0.6020, Val Acc = 0.5300\n",
            "Epoch 19: Train Loss = 1.0145, Val Loss = 1.3015, Train Acc = 0.6154, Val Acc = 0.5204\n",
            "Epoch 20: Train Loss = 0.9890, Val Loss = 1.2892, Train Acc = 0.6262, Val Acc = 0.5283\n"
          ]
        },
        {
          "output_type": "display_data",
          "data": {
            "text/plain": [
              "<IPython.core.display.HTML object>"
            ],
            "text/html": []
          },
          "metadata": {}
        },
        {
          "output_type": "display_data",
          "data": {
            "text/plain": [
              "<IPython.core.display.HTML object>"
            ],
            "text/html": [
              "<br>    <style><br>        .wandb-row {<br>            display: flex;<br>            flex-direction: row;<br>            flex-wrap: wrap;<br>            justify-content: flex-start;<br>            width: 100%;<br>        }<br>        .wandb-col {<br>            display: flex;<br>            flex-direction: column;<br>            flex-basis: 100%;<br>            flex: 1;<br>            padding: 10px;<br>        }<br>    </style><br><div class=\"wandb-row\"><div class=\"wandb-col\"><h3>Run history:</h3><br/><table class=\"wandb\"><tr><td>epoch</td><td>▁▁▂▂▂▃▃▄▄▄▅▅▅▆▆▇▇▇██</td></tr><tr><td>train_accuracy</td><td>▁▃▄▄▅▅▅▅▅▆▆▆▆▇▇▇▇▇██</td></tr><tr><td>train_loss</td><td>█▆▆▅▅▄▄▄▄▃▃▃▃▃▂▂▂▂▁▁</td></tr><tr><td>val_accuracy</td><td>▁▃▄▅▅▆▆▆▆▇▇▇▇▇▇█████</td></tr><tr><td>val_loss</td><td>█▅▄▃▃▂▂▂▂▁▁▂▂▁▂▂▁▁▁▁</td></tr></table><br/></div><div class=\"wandb-col\"><h3>Run summary:</h3><br/><table class=\"wandb\"><tr><td>epoch</td><td>20</td></tr><tr><td>train_accuracy</td><td>0.62624</td></tr><tr><td>train_loss</td><td>0.98897</td></tr><tr><td>val_accuracy</td><td>0.52833</td></tr><tr><td>val_loss</td><td>1.28916</td></tr></table><br/></div></div>"
            ]
          },
          "metadata": {}
        },
        {
          "output_type": "display_data",
          "data": {
            "text/plain": [
              "<IPython.core.display.HTML object>"
            ],
            "text/html": [
              " View run <strong style=\"color:#cdcd00\">high-epochs+less-dropout</strong> at: <a href='https://wandb.ai/gbend22-free-university-of-tbilisi-/ml-homework-4/runs/vqettrxj' target=\"_blank\">https://wandb.ai/gbend22-free-university-of-tbilisi-/ml-homework-4/runs/vqettrxj</a><br> View project at: <a href='https://wandb.ai/gbend22-free-university-of-tbilisi-/ml-homework-4' target=\"_blank\">https://wandb.ai/gbend22-free-university-of-tbilisi-/ml-homework-4</a><br>Synced 5 W&B file(s), 0 media file(s), 0 artifact file(s) and 1 other file(s)"
            ]
          },
          "metadata": {}
        },
        {
          "output_type": "display_data",
          "data": {
            "text/plain": [
              "<IPython.core.display.HTML object>"
            ],
            "text/html": [
              "Find logs at: <code>./wandb/run-20250607_094308-vqettrxj/logs</code>"
            ]
          },
          "metadata": {}
        }
      ],
      "source": [
        "wandb.init(\n",
        "    project=\"ml-homework-4\",\n",
        "    group=\"dropout-cnn\",\n",
        "    name=\"high-epochs+less-dropout\",\n",
        "    config={\n",
        "        \"learning_rate\": LR,\n",
        "        \"epochs\": EPOCHS,\n",
        "        \"batch_size\": BATCH_SIZE,\n",
        "        \"architecture\": \"CustomCNN\"\n",
        "    }\n",
        ")\n",
        "\n",
        "\n",
        "for epoch in range(EPOCHS):\n",
        "    model.train()\n",
        "    total_acc_train = 0\n",
        "    total_loss_train = 0\n",
        "    total_acc_val = 0\n",
        "    total_loss_val = 0\n",
        "\n",
        "    for inputs, labels in train_loader:\n",
        "        inputs, labels = inputs.to(device), labels.to(device)\n",
        "        optimizer.zero_grad()\n",
        "        outputs = model(inputs)\n",
        "        loss = criterion(outputs, labels)\n",
        "        loss.backward()\n",
        "        optimizer.step()\n",
        "\n",
        "        total_loss_train += loss.item()\n",
        "        total_acc_train += (outputs.argmax(1) == labels).sum().item()\n",
        "\n",
        "    model.eval()\n",
        "    with torch.no_grad():\n",
        "        for inputs, labels in val_loader:\n",
        "            inputs, labels = inputs.to(device), labels.to(device)\n",
        "            outputs = model(inputs)\n",
        "            val_loss = criterion(outputs, labels)\n",
        "            total_loss_val += val_loss.item()\n",
        "            total_acc_val += (outputs.argmax(1) == labels).sum().item()\n",
        "\n",
        "    train_acc = total_acc_train / len(train_dataset)\n",
        "    val_acc = total_acc_val / len(val_dataset)\n",
        "    train_loss = total_loss_train / len(train_loader)\n",
        "    val_loss = total_loss_val / len(val_loader)\n",
        "\n",
        "    wandb.log({\n",
        "        \"epoch\": epoch + 1,\n",
        "        \"train_loss\": train_loss,\n",
        "        \"val_loss\": val_loss,\n",
        "        \"train_accuracy\": train_acc,\n",
        "        \"val_accuracy\": val_acc\n",
        "    })\n",
        "\n",
        "    print(f\"Epoch {epoch+1}: Train Loss = {train_loss:.4f}, Val Loss = {val_loss:.4f}, Train Acc = {train_acc:.4f}, Val Acc = {val_acc:.4f}\")\n",
        "\n",
        "torch.save(model.state_dict(), \"model.pth\")\n",
        "wandb.save(\"model.pth\")\n",
        "wandb.finish()"
      ]
    },
    {
      "cell_type": "code",
      "execution_count": null,
      "metadata": {
        "id": "dt3UpwpVbC67"
      },
      "outputs": [],
      "source": []
    }
  ],
  "metadata": {
    "accelerator": "GPU",
    "colab": {
      "gpuType": "T4",
      "name": "Tips_tricks_35_loading_kaggle_data_to_colab.ipynb",
      "provenance": []
    },
    "kernelspec": {
      "display_name": "Python 3",
      "name": "python3"
    },
    "language_info": {
      "name": "python"
    }
  },
  "nbformat": 4,
  "nbformat_minor": 0
}