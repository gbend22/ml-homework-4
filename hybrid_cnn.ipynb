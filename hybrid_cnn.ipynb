{
  "cells": [
    {
      "cell_type": "code",
      "execution_count": 1,
      "metadata": {
        "colab": {
          "base_uri": "https://localhost:8080/"
        },
        "id": "KlwSaX9akGfG",
        "outputId": "89315f61-20b8-4d2f-bcf4-dfbe6f879f19"
      },
      "outputs": [
        {
          "output_type": "stream",
          "name": "stdout",
          "text": [
            "Requirement already satisfied: kaggle in /usr/local/lib/python3.11/dist-packages (1.7.4.5)\n",
            "Requirement already satisfied: bleach in /usr/local/lib/python3.11/dist-packages (from kaggle) (6.2.0)\n",
            "Requirement already satisfied: certifi>=14.05.14 in /usr/local/lib/python3.11/dist-packages (from kaggle) (2025.4.26)\n",
            "Requirement already satisfied: charset-normalizer in /usr/local/lib/python3.11/dist-packages (from kaggle) (3.4.2)\n",
            "Requirement already satisfied: idna in /usr/local/lib/python3.11/dist-packages (from kaggle) (3.10)\n",
            "Requirement already satisfied: protobuf in /usr/local/lib/python3.11/dist-packages (from kaggle) (5.29.5)\n",
            "Requirement already satisfied: python-dateutil>=2.5.3 in /usr/local/lib/python3.11/dist-packages (from kaggle) (2.9.0.post0)\n",
            "Requirement already satisfied: python-slugify in /usr/local/lib/python3.11/dist-packages (from kaggle) (8.0.4)\n",
            "Requirement already satisfied: requests in /usr/local/lib/python3.11/dist-packages (from kaggle) (2.32.3)\n",
            "Requirement already satisfied: setuptools>=21.0.0 in /usr/local/lib/python3.11/dist-packages (from kaggle) (75.2.0)\n",
            "Requirement already satisfied: six>=1.10 in /usr/local/lib/python3.11/dist-packages (from kaggle) (1.17.0)\n",
            "Requirement already satisfied: text-unidecode in /usr/local/lib/python3.11/dist-packages (from kaggle) (1.3)\n",
            "Requirement already satisfied: tqdm in /usr/local/lib/python3.11/dist-packages (from kaggle) (4.67.1)\n",
            "Requirement already satisfied: urllib3>=1.15.1 in /usr/local/lib/python3.11/dist-packages (from kaggle) (2.4.0)\n",
            "Requirement already satisfied: webencodings in /usr/local/lib/python3.11/dist-packages (from kaggle) (0.5.1)\n"
          ]
        }
      ],
      "source": [
        "! pip install kaggle"
      ]
    },
    {
      "cell_type": "code",
      "execution_count": 2,
      "metadata": {
        "colab": {
          "base_uri": "https://localhost:8080/"
        },
        "id": "NGineQt7dErh",
        "outputId": "8d16c39e-90d7-4c88-cde1-710e2820eb2f"
      },
      "outputs": [
        {
          "output_type": "stream",
          "name": "stdout",
          "text": [
            "Mounted at /content/drive\n"
          ]
        }
      ],
      "source": [
        "from google.colab import drive\n",
        "drive.mount('/content/drive')"
      ]
    },
    {
      "cell_type": "code",
      "execution_count": 3,
      "metadata": {
        "colab": {
          "base_uri": "https://localhost:8080/"
        },
        "id": "dAs9oVnNoziL",
        "outputId": "1bafeb24-f4c5-4d94-de41-bef0f29eecda"
      },
      "outputs": [
        {
          "output_type": "stream",
          "name": "stdout",
          "text": [
            "Archive:  /content/drive/MyDrive/Assignment4/train.csv.zip\n",
            "  inflating: train.csv               \n"
          ]
        }
      ],
      "source": [
        "! unzip /content/drive/MyDrive/Assignment4/train.csv.zip"
      ]
    },
    {
      "cell_type": "code",
      "execution_count": 4,
      "metadata": {
        "colab": {
          "base_uri": "https://localhost:8080/"
        },
        "id": "89f2pVVYV7HY",
        "outputId": "fc44d859-f4ac-48d0-e93d-3580502b3f70"
      },
      "outputs": [
        {
          "output_type": "stream",
          "name": "stdout",
          "text": [
            "Archive:  /content/drive/MyDrive/Assignment4/test.csv.zip\n",
            "  inflating: test.csv                \n"
          ]
        }
      ],
      "source": [
        "! unzip /content/drive/MyDrive/Assignment4/test.csv.zip"
      ]
    },
    {
      "cell_type": "code",
      "execution_count": 5,
      "metadata": {
        "colab": {
          "base_uri": "https://localhost:8080/"
        },
        "id": "YsMoiYlkWbHi",
        "outputId": "6b4794c3-457f-470a-adc4-16b94b6f19ed"
      },
      "outputs": [
        {
          "output_type": "stream",
          "name": "stdout",
          "text": [
            "Device available:  cuda\n"
          ]
        }
      ],
      "source": [
        "import torch # Main PyTorch Library\n",
        "from torch import nn # Used for creating the layers and loss function\n",
        "from torch.optim import Adam # Adam Optimizer\n",
        "import torchvision.transforms as transforms # Transform function used to modify and preprocess all the images\n",
        "from torch.utils.data import Dataset, DataLoader # Dataset class and DataLoader for creating the objects\n",
        "from sklearn.preprocessing import LabelEncoder # Label Encoder to encode the classes from strings to numbers\n",
        "import matplotlib.pyplot as plt # Used for visualizing the images and plotting the training progress\n",
        "from PIL import Image # Used to read the images from the directory\n",
        "import pandas as pd # Used to read/create dataframes (csv) and process tabular data\n",
        "import numpy as np # preprocessing and numerical/mathematical operations\n",
        "import os # Used to read the images path from the directory\n",
        "\n",
        "device = \"cuda\" if torch.cuda.is_available() else \"cpu\" # detect the GPU if any, if not use CPU, change cuda to mps if you have a mac\n",
        "print(\"Device available: \", device)"
      ]
    },
    {
      "cell_type": "code",
      "execution_count": 6,
      "metadata": {
        "colab": {
          "base_uri": "https://localhost:8080/"
        },
        "id": "7lYOoWxeF0DS",
        "outputId": "bd38972f-293d-4299-ba21-29071d034e8f"
      },
      "outputs": [
        {
          "output_type": "stream",
          "name": "stdout",
          "text": [
            "Images shape: (28709, 48, 48)\n",
            "Labels shape: (28709,)\n"
          ]
        }
      ],
      "source": [
        "df = pd.read_csv('/content/train.csv')\n",
        "\n",
        "def process_pixels(pixel_str):\n",
        "    pixels = np.fromstring(pixel_str, sep=' ', dtype=np.uint8)\n",
        "    return pixels.reshape(48, 48)\n",
        "\n",
        "images = np.array([process_pixels(p) for p in df['pixels']])\n",
        "labels = df['emotion'].values\n",
        "\n",
        "print(\"Images shape:\", images.shape)\n",
        "print(\"Labels shape:\", labels.shape)\n"
      ]
    },
    {
      "cell_type": "code",
      "execution_count": 7,
      "metadata": {
        "id": "XnYPDGgbWoJp"
      },
      "outputs": [],
      "source": [
        "from sklearn.model_selection import train_test_split\n",
        "\n",
        "X_train, X_temp, y_train, y_temp = train_test_split(images, labels, test_size=0.3, random_state=7, stratify=labels)\n",
        "\n",
        "X_val, X_test, y_val, y_test = train_test_split(X_temp, y_temp, test_size=0.5, random_state=7, stratify=y_temp)"
      ]
    },
    {
      "cell_type": "code",
      "execution_count": 8,
      "metadata": {
        "id": "LugPvoEOWrew"
      },
      "outputs": [],
      "source": [
        "transform = transforms.Compose([\n",
        "    transforms.ToTensor(),\n",
        "    transforms.Normalize((0.5,), (0.5,))\n",
        "])"
      ]
    },
    {
      "cell_type": "code",
      "execution_count": 9,
      "metadata": {
        "id": "KOjaT4RRW1b0"
      },
      "outputs": [],
      "source": [
        "class CustomImageDataset(Dataset):\n",
        "    def __init__(self, images, labels, transform=None):\n",
        "        self.images = images\n",
        "        self.labels = labels\n",
        "        self.transform = transform\n",
        "\n",
        "    def __len__(self):\n",
        "        return len(self.images)\n",
        "\n",
        "    def __getitem__(self, idx):\n",
        "        image = self.images[idx]\n",
        "        label = self.labels[idx]\n",
        "        image = Image.fromarray(image.astype(np.uint8), mode='L')\n",
        "        if self.transform:\n",
        "            image = self.transform(image)\n",
        "        return image, label"
      ]
    },
    {
      "cell_type": "code",
      "execution_count": 10,
      "metadata": {
        "id": "ZlnLfj7KW8eq"
      },
      "outputs": [],
      "source": [
        "train_dataset = CustomImageDataset(X_train, y_train, transform=transform)\n",
        "val_dataset = CustomImageDataset(X_val, y_val, transform=transform)\n",
        "test_dataset = CustomImageDataset(X_test, y_test, transform=transform)"
      ]
    },
    {
      "cell_type": "code",
      "execution_count": 29,
      "metadata": {
        "id": "4TDDBnRvX25w"
      },
      "outputs": [],
      "source": [
        "LR = 3e-4\n",
        "BATCH_SIZE = 64\n",
        "EPOCHS = 25"
      ]
    },
    {
      "cell_type": "code",
      "execution_count": 12,
      "metadata": {
        "id": "IJ3HJohiYYCn"
      },
      "outputs": [],
      "source": [
        "train_loader = DataLoader(train_dataset, batch_size=BATCH_SIZE, shuffle=True)\n",
        "val_loader = DataLoader(val_dataset, batch_size=BATCH_SIZE, shuffle=True)\n",
        "test_loader = DataLoader(test_dataset, batch_size=BATCH_SIZE, shuffle=True)"
      ]
    },
    {
      "cell_type": "code",
      "execution_count": 30,
      "metadata": {
        "colab": {
          "base_uri": "https://localhost:8080/",
          "height": 607
        },
        "id": "Hluc7J39W8-n",
        "outputId": "49d26562-f907-4c5e-c56e-1f9295a0fced"
      },
      "outputs": [
        {
          "output_type": "display_data",
          "data": {
            "text/plain": [
              "<Figure size 600x600 with 9 Axes>"
            ],
            "image/png": "[encoded data removed]"
          },
          "metadata": {}
        }
      ],
      "source": [
        "n_rows = 3\n",
        "n_cols = 3\n",
        "f, axarr = plt.subplots(n_rows, n_cols, figsize=(6, 6))\n",
        "\n",
        "for row in range(n_rows):\n",
        "    for col in range(n_cols):\n",
        "        idx = np.random.randint(len(X_train))\n",
        "        image = X_train[idx]\n",
        "        label = y_train[idx]\n",
        "\n",
        "        axarr[row, col].imshow(image, cmap='gray')\n",
        "        axarr[row, col].set_title(f\"Label: {label}\")\n",
        "        axarr[row, col].axis('off')\n",
        "\n",
        "plt.tight_layout()\n",
        "plt.show()"
      ]
    },
    {
      "cell_type": "code",
      "execution_count": 31,
      "metadata": {
        "id": "zL_mMnnlXDGX"
      },
      "outputs": [],
      "source": [
        "class HybridCNN(nn.Module):\n",
        "    def __init__(self):\n",
        "        super().__init__()\n",
        "        self.conv_layers = nn.Sequential(\n",
        "            nn.Conv2d(1, 32, kernel_size=3, padding=1),\n",
        "            nn.BatchNorm2d(32),\n",
        "            nn.ReLU(),\n",
        "            nn.Conv2d(32, 32, kernel_size=3, padding=1),\n",
        "            nn.BatchNorm2d(32),\n",
        "            nn.ReLU(),\n",
        "            nn.MaxPool2d(2),\n",
        "            nn.Dropout(0.25),\n",
        "\n",
        "            nn.Conv2d(32, 64, kernel_size=3, padding=1),\n",
        "            nn.BatchNorm2d(64),\n",
        "            nn.ReLU(),\n",
        "            nn.Conv2d(64, 64, kernel_size=3, padding=1),\n",
        "            nn.BatchNorm2d(64),\n",
        "            nn.ReLU(),\n",
        "            nn.MaxPool2d(2),\n",
        "            nn.Dropout(0.25),\n",
        "\n",
        "            nn.Conv2d(64, 128, kernel_size=3, padding=1),\n",
        "            nn.BatchNorm2d(128),\n",
        "            nn.ReLU(),\n",
        "            nn.Conv2d(128, 128, kernel_size=3, padding=1),\n",
        "            nn.BatchNorm2d(128),\n",
        "            nn.ReLU(),\n",
        "            nn.MaxPool2d(2),\n",
        "            nn.Dropout(0.25)\n",
        "        )\n",
        "\n",
        "        self.global_pool = nn.AdaptiveAvgPool2d((1, 1))\n",
        "\n",
        "        self.fc_layers = nn.Sequential(\n",
        "            nn.Flatten(),\n",
        "            nn.Linear(128, 128),\n",
        "            nn.ReLU(),\n",
        "            nn.Dropout(0.5),\n",
        "            nn.Linear(128, 7)\n",
        "        )\n",
        "\n",
        "    def forward(self, x):\n",
        "        x = self.conv_layers(x)\n",
        "        x = self.global_pool(x)\n",
        "        x = self.fc_layers(x)\n",
        "        return x"
      ]
    },
    {
      "cell_type": "code",
      "execution_count": 32,
      "metadata": {
        "id": "60RSw7wIKX5_"
      },
      "outputs": [],
      "source": [
        "model = HybridCNN().to(device)\n",
        "model = model.to(device)"
      ]
    },
    {
      "cell_type": "code",
      "execution_count": 33,
      "metadata": {
        "colab": {
          "base_uri": "https://localhost:8080/"
        },
        "id": "cUFMdM2tXU7R",
        "outputId": "d1039e44-2fdd-4193-a023-69247c52b747"
      },
      "outputs": [
        {
          "output_type": "stream",
          "name": "stdout",
          "text": [
            "----------------------------------------------------------------\n",
            "        Layer (type)               Output Shape         Param #\n",
            "================================================================\n",
            "            Conv2d-1           [-1, 32, 48, 48]             320\n",
            "       BatchNorm2d-2           [-1, 32, 48, 48]              64\n",
            "              ReLU-3           [-1, 32, 48, 48]               0\n",
            "            Conv2d-4           [-1, 32, 48, 48]           9,248\n",
            "       BatchNorm2d-5           [-1, 32, 48, 48]              64\n",
            "              ReLU-6           [-1, 32, 48, 48]               0\n",
            "         MaxPool2d-7           [-1, 32, 24, 24]               0\n",
            "           Dropout-8           [-1, 32, 24, 24]               0\n",
            "            Conv2d-9           [-1, 64, 24, 24]          18,496\n",
            "      BatchNorm2d-10           [-1, 64, 24, 24]             128\n",
            "             ReLU-11           [-1, 64, 24, 24]               0\n",
            "           Conv2d-12           [-1, 64, 24, 24]          36,928\n",
            "      BatchNorm2d-13           [-1, 64, 24, 24]             128\n",
            "             ReLU-14           [-1, 64, 24, 24]               0\n",
            "        MaxPool2d-15           [-1, 64, 12, 12]               0\n",
            "          Dropout-16           [-1, 64, 12, 12]               0\n",
            "           Conv2d-17          [-1, 128, 12, 12]          73,856\n",
            "      BatchNorm2d-18          [-1, 128, 12, 12]             256\n",
            "             ReLU-19          [-1, 128, 12, 12]               0\n",
            "           Conv2d-20          [-1, 128, 12, 12]         147,584\n",
            "      BatchNorm2d-21          [-1, 128, 12, 12]             256\n",
            "             ReLU-22          [-1, 128, 12, 12]               0\n",
            "        MaxPool2d-23            [-1, 128, 6, 6]               0\n",
            "          Dropout-24            [-1, 128, 6, 6]               0\n",
            "AdaptiveAvgPool2d-25            [-1, 128, 1, 1]               0\n",
            "          Flatten-26                  [-1, 128]               0\n",
            "           Linear-27                  [-1, 128]          16,512\n",
            "             ReLU-28                  [-1, 128]               0\n",
            "          Dropout-29                  [-1, 128]               0\n",
            "           Linear-30                    [-1, 7]             903\n",
            "================================================================\n",
            "Total params: 304,743\n",
            "Trainable params: 304,743\n",
            "Non-trainable params: 0\n",
            "----------------------------------------------------------------\n",
            "Input size (MB): 0.01\n",
            "Forward/backward pass size (MB): 6.40\n",
            "Params size (MB): 1.16\n",
            "Estimated Total Size (MB): 7.57\n",
            "----------------------------------------------------------------\n"
          ]
        }
      ],
      "source": [
        "from torchsummary import summary\n",
        "summary(model, input_size=(1, 48, 48))"
      ]
    },
    {
      "cell_type": "code",
      "execution_count": 34,
      "metadata": {
        "id": "q3qAG9HDXnWu"
      },
      "outputs": [],
      "source": [
        "criterion = nn.CrossEntropyLoss()\n",
        "optimizer = Adam(model.parameters(), lr=LR, weight_decay=1e-5)"
      ]
    },
    {
      "cell_type": "code",
      "execution_count": 28,
      "metadata": {
        "colab": {
          "base_uri": "https://localhost:8080/"
        },
        "id": "bxojp-v5Xy7o",
        "outputId": "1fe8be37-c8b1-4ea6-cbcf-4ba89cb7da2b"
      },
      "outputs": [
        {
          "output_type": "stream",
          "name": "stdout",
          "text": [
            "Epoch 1/20\n",
            "    Train Loss: 1.7416 | Train Accuracy: 28.85%\n",
            "    Val Loss: 1.6767 | Val Accuracy: 33.7%\n",
            "==============================\n",
            "Epoch 2/20\n",
            "    Train Loss: 1.5094 | Train Accuracy: 41.37%\n",
            "    Val Loss: 1.3872 | Val Accuracy: 47.24%\n",
            "==============================\n",
            "Epoch 3/20\n",
            "    Train Loss: 1.3969 | Train Accuracy: 46.37%\n",
            "    Val Loss: 1.3408 | Val Accuracy: 48.51%\n",
            "==============================\n",
            "Epoch 4/20\n",
            "    Train Loss: 1.3335 | Train Accuracy: 49.19%\n",
            "    Val Loss: 1.2408 | Val Accuracy: 53.32%\n",
            "==============================\n",
            "Epoch 5/20\n",
            "    Train Loss: 1.2824 | Train Accuracy: 52.08%\n",
            "    Val Loss: 1.2549 | Val Accuracy: 51.93%\n",
            "==============================\n",
            "Epoch 6/20\n",
            "    Train Loss: 1.2467 | Train Accuracy: 52.87%\n",
            "    Val Loss: 1.1886 | Val Accuracy: 53.74%\n",
            "==============================\n",
            "Epoch 7/20\n",
            "    Train Loss: 1.2135 | Train Accuracy: 54.39%\n",
            "    Val Loss: 1.1834 | Val Accuracy: 55.43%\n",
            "==============================\n",
            "Epoch 8/20\n",
            "    Train Loss: 1.1813 | Train Accuracy: 55.6%\n",
            "    Val Loss: 1.153 | Val Accuracy: 56.01%\n",
            "==============================\n",
            "Epoch 9/20\n",
            "    Train Loss: 1.1677 | Train Accuracy: 56.57%\n",
            "    Val Loss: 1.1463 | Val Accuracy: 55.64%\n",
            "==============================\n",
            "Epoch 10/20\n",
            "    Train Loss: 1.1398 | Train Accuracy: 57.32%\n",
            "    Val Loss: 1.121 | Val Accuracy: 57.15%\n",
            "==============================\n",
            "Epoch 11/20\n",
            "    Train Loss: 1.1224 | Train Accuracy: 57.78%\n",
            "    Val Loss: 1.1565 | Val Accuracy: 55.67%\n",
            "==============================\n",
            "Epoch 12/20\n",
            "    Train Loss: 1.1099 | Train Accuracy: 58.63%\n",
            "    Val Loss: 1.1237 | Val Accuracy: 58.01%\n",
            "==============================\n",
            "Epoch 13/20\n",
            "    Train Loss: 1.093 | Train Accuracy: 59.32%\n",
            "    Val Loss: 1.1303 | Val Accuracy: 57.25%\n",
            "==============================\n",
            "Epoch 14/20\n",
            "    Train Loss: 1.0726 | Train Accuracy: 59.97%\n",
            "    Val Loss: 1.0963 | Val Accuracy: 58.13%\n",
            "==============================\n",
            "Epoch 15/20\n",
            "    Train Loss: 1.0503 | Train Accuracy: 60.65%\n",
            "    Val Loss: 1.0906 | Val Accuracy: 57.69%\n",
            "==============================\n",
            "Epoch 16/20\n",
            "    Train Loss: 1.04 | Train Accuracy: 61.14%\n",
            "    Val Loss: 1.0944 | Val Accuracy: 58.48%\n",
            "==============================\n",
            "Epoch 17/20\n",
            "    Train Loss: 1.0252 | Train Accuracy: 61.92%\n",
            "    Val Loss: 1.0679 | Val Accuracy: 59.68%\n",
            "==============================\n",
            "Epoch 18/20\n",
            "    Train Loss: 1.0148 | Train Accuracy: 62.08%\n",
            "    Val Loss: 1.075 | Val Accuracy: 59.34%\n",
            "==============================\n",
            "Epoch 19/20\n",
            "    Train Loss: 0.9951 | Train Accuracy: 62.56%\n",
            "    Val Loss: 1.072 | Val Accuracy: 59.71%\n",
            "==============================\n",
            "Epoch 20/20\n",
            "    Train Loss: 0.9835 | Train Accuracy: 63.87%\n",
            "    Val Loss: 1.0997 | Val Accuracy: 58.5%\n",
            "==============================\n"
          ]
        }
      ],
      "source": [
        "total_loss_train_plot = []\n",
        "total_loss_validation_plot = []\n",
        "total_acc_train_plot = []\n",
        "total_acc_validation_plot = []\n",
        "\n",
        "for epoch in range(EPOCHS):\n",
        "    total_acc_train = 0\n",
        "    total_loss_train = 0\n",
        "    total_loss_val = 0\n",
        "    total_acc_val = 0\n",
        "\n",
        "    model.train()\n",
        "    for inputs, labels in train_loader:\n",
        "        inputs, labels = inputs.to(device), labels.to(device)\n",
        "\n",
        "        optimizer.zero_grad()\n",
        "        outputs = model(inputs)\n",
        "        train_loss = criterion(outputs, labels)\n",
        "        total_loss_train += train_loss.item()\n",
        "        train_loss.backward()\n",
        "        optimizer.step()\n",
        "\n",
        "        train_acc = (outputs.argmax(1) == labels).sum().item()\n",
        "        total_acc_train += train_acc\n",
        "\n",
        "    model.eval()\n",
        "    with torch.no_grad():\n",
        "        for inputs, labels in val_loader:\n",
        "            inputs, labels = inputs.to(device), labels.to(device)\n",
        "\n",
        "            outputs = model(inputs)\n",
        "            val_loss = criterion(outputs, labels)\n",
        "            total_loss_val += val_loss.item()\n",
        "\n",
        "            val_acc = (outputs.argmax(1) == labels).sum().item()\n",
        "            total_acc_val += val_acc\n",
        "\n",
        "    train_size = len(train_dataset)\n",
        "    val_size = len(val_dataset)\n",
        "\n",
        "    total_loss_train_plot.append(round(total_loss_train / len(train_loader), 4))\n",
        "    total_loss_validation_plot.append(round(total_loss_val / len(val_loader), 4))\n",
        "    total_acc_train_plot.append(round(total_acc_train / train_size * 100, 2))\n",
        "    total_acc_validation_plot.append(round(total_acc_val / val_size * 100, 2))\n",
        "\n",
        "    print(f'''Epoch {epoch+1}/{EPOCHS}\n",
        "    Train Loss: {round(total_loss_train / len(train_loader), 4)} | Train Accuracy: {round(total_acc_train / train_size * 100, 2)}%\n",
        "    Val Loss: {round(total_loss_val / len(val_loader), 4)} | Val Accuracy: {round(total_acc_val / val_size * 100, 2)}%''')\n",
        "    print(\"=\"*30)\n"
      ]
    },
    {
      "cell_type": "code",
      "execution_count": null,
      "metadata": {
        "colab": {
          "base_uri": "https://localhost:8080/"
        },
        "id": "kro7E4bAYNJy",
        "outputId": "631615dc-d143-47d6-9ee8-7111a81f8326"
      },
      "outputs": [
        {
          "name": "stdout",
          "output_type": "stream",
          "text": [
            "Test Accuracy: 53.24%\n",
            "Test Loss: 1.2511\n"
          ]
        }
      ],
      "source": [
        "with torch.no_grad():\n",
        "    model.eval()\n",
        "    total_loss_test = 0\n",
        "    total_acc_test = 0\n",
        "\n",
        "    for inputs, labels in test_loader:\n",
        "        inputs, labels = inputs.to(device), labels.to(device)\n",
        "\n",
        "        predictions = model(inputs)\n",
        "\n",
        "        acc = (predictions.argmax(1) == labels).sum().item()\n",
        "        total_acc_test += acc\n",
        "\n",
        "        test_loss = criterion(predictions, labels)\n",
        "        total_loss_test += test_loss.item()\n",
        "\n",
        "test_size = len(test_dataset)\n",
        "average_loss = round(total_loss_test / len(test_loader), 4)\n",
        "accuracy = round((total_acc_test / test_size) * 100, 2)\n",
        "\n",
        "print(f\"Test Accuracy: {accuracy}%\")\n",
        "print(f\"Test Loss: {average_loss}\")\n"
      ]
    },
    {
      "cell_type": "code",
      "execution_count": null,
      "metadata": {
        "colab": {
          "base_uri": "https://localhost:8080/",
          "height": 383
        },
        "id": "2kY96xwCZh0Q",
        "outputId": "4e038169-b3a8-4fa9-d889-0a1ffb0e4e91"
      },
      "outputs": [
        {
          "data": {
            "image/png": "[encoded data removed]",
            "text/plain": [
              "<Figure size 1500x500 with 2 Axes>"
            ]
          },
          "metadata": {},
          "output_type": "display_data"
        }
      ],
      "source": [
        "fig, axs = plt.subplots(nrows=1, ncols=2, figsize=(15, 5))\n",
        "\n",
        "axs[0].plot(total_loss_train_plot, label='Training Loss')\n",
        "axs[0].plot(total_loss_validation_plot, label='Validation Loss')\n",
        "axs[0].set_title('Training and Validation Loss over Epochs')\n",
        "axs[0].set_xlabel('Epochs')\n",
        "axs[0].set_ylabel('Loss')\n",
        "axs[0].legend()\n",
        "\n",
        "axs[1].plot(total_acc_train_plot, label='Training Accuracy')\n",
        "axs[1].plot(total_acc_validation_plot, label='Validation Accuracy')\n",
        "axs[1].set_title('Training and Validation Accuracy over Epochs')\n",
        "axs[1].set_xlabel('Epochs')\n",
        "axs[1].set_ylabel('Accuracy')\n",
        "axs[1].legend()\n",
        "\n",
        "plt.tight_layout()\n",
        "\n",
        "plt.show()"
      ]
    },
    {
      "cell_type": "code",
      "execution_count": 36,
      "metadata": {
        "colab": {
          "base_uri": "https://localhost:8080/"
        },
        "id": "Kl6ithQfZsgk",
        "outputId": "af3f8153-f9af-4a1e-ba22-5b37034a6e07"
      },
      "outputs": [
        {
          "output_type": "stream",
          "name": "stdout",
          "text": [
            "Requirement already satisfied: wandb in /usr/local/lib/python3.11/dist-packages (0.19.11)\n",
            "Requirement already satisfied: click!=8.0.0,>=7.1 in /usr/local/lib/python3.11/dist-packages (from wandb) (8.2.1)\n",
            "Requirement already satisfied: docker-pycreds>=0.4.0 in /usr/local/lib/python3.11/dist-packages (from wandb) (0.4.0)\n",
            "Requirement already satisfied: gitpython!=3.1.29,>=1.0.0 in /usr/local/lib/python3.11/dist-packages (from wandb) (3.1.44)\n",
            "Requirement already satisfied: platformdirs in /usr/local/lib/python3.11/dist-packages (from wandb) (4.3.8)\n",
            "Requirement already satisfied: protobuf!=4.21.0,!=5.28.0,<7,>=3.19.0 in /usr/local/lib/python3.11/dist-packages (from wandb) (5.29.5)\n",
            "Requirement already satisfied: psutil>=5.0.0 in /usr/local/lib/python3.11/dist-packages (from wandb) (5.9.5)\n",
            "Requirement already satisfied: pydantic<3 in /usr/local/lib/python3.11/dist-packages (from wandb) (2.11.5)\n",
            "Requirement already satisfied: pyyaml in /usr/local/lib/python3.11/dist-packages (from wandb) (6.0.2)\n",
            "Requirement already satisfied: requests<3,>=2.0.0 in /usr/local/lib/python3.11/dist-packages (from wandb) (2.32.3)\n",
            "Requirement already satisfied: sentry-sdk>=2.0.0 in /usr/local/lib/python3.11/dist-packages (from wandb) (2.29.1)\n",
            "Requirement already satisfied: setproctitle in /usr/local/lib/python3.11/dist-packages (from wandb) (1.3.6)\n",
            "Requirement already satisfied: setuptools in /usr/local/lib/python3.11/dist-packages (from wandb) (75.2.0)\n",
            "Requirement already satisfied: typing-extensions<5,>=4.4 in /usr/local/lib/python3.11/dist-packages (from wandb) (4.14.0)\n",
            "Requirement already satisfied: six>=1.4.0 in /usr/local/lib/python3.11/dist-packages (from docker-pycreds>=0.4.0->wandb) (1.17.0)\n",
            "Requirement already satisfied: gitdb<5,>=4.0.1 in /usr/local/lib/python3.11/dist-packages (from gitpython!=3.1.29,>=1.0.0->wandb) (4.0.12)\n",
            "Requirement already satisfied: annotated-types>=0.6.0 in /usr/local/lib/python3.11/dist-packages (from pydantic<3->wandb) (0.7.0)\n",
            "Requirement already satisfied: pydantic-core==2.33.2 in /usr/local/lib/python3.11/dist-packages (from pydantic<3->wandb) (2.33.2)\n",
            "Requirement already satisfied: typing-inspection>=0.4.0 in /usr/local/lib/python3.11/dist-packages (from pydantic<3->wandb) (0.4.1)\n",
            "Requirement already satisfied: charset-normalizer<4,>=2 in /usr/local/lib/python3.11/dist-packages (from requests<3,>=2.0.0->wandb) (3.4.2)\n",
            "Requirement already satisfied: idna<4,>=2.5 in /usr/local/lib/python3.11/dist-packages (from requests<3,>=2.0.0->wandb) (3.10)\n",
            "Requirement already satisfied: urllib3<3,>=1.21.1 in /usr/local/lib/python3.11/dist-packages (from requests<3,>=2.0.0->wandb) (2.4.0)\n",
            "Requirement already satisfied: certifi>=2017.4.17 in /usr/local/lib/python3.11/dist-packages (from requests<3,>=2.0.0->wandb) (2025.4.26)\n",
            "Requirement already satisfied: smmap<6,>=3.0.1 in /usr/local/lib/python3.11/dist-packages (from gitdb<5,>=4.0.1->gitpython!=3.1.29,>=1.0.0->wandb) (5.0.2)\n"
          ]
        }
      ],
      "source": [
        "!pip install wandb\n",
        "import wandb"
      ]
    },
    {
      "cell_type": "code",
      "execution_count": 37,
      "metadata": {
        "colab": {
          "base_uri": "https://localhost:8080/"
        },
        "id": "MKjDDyExaloc",
        "outputId": "cecbcee7-b22d-4775-990e-14c9769ee5a0"
      },
      "outputs": [
        {
          "output_type": "stream",
          "name": "stdout",
          "text": [
            "\u001b[34m\u001b[1mwandb\u001b[0m: \u001b[33mWARNING\u001b[0m Using legacy-service, which is deprecated. If this is unintentional, you can fix it by ensuring you do not call `wandb.require('legacy-service')` and do not set the WANDB_X_REQUIRE_LEGACY_SERVICE environment variable.\n",
            "\u001b[34m\u001b[1mwandb\u001b[0m: Logging into wandb.ai. (Learn how to deploy a W&B server locally: https://wandb.me/wandb-server)\n",
            "\u001b[34m\u001b[1mwandb\u001b[0m: You can find your API key in your browser here: https://wandb.ai/authorize?ref=models\n",
            "\u001b[34m\u001b[1mwandb\u001b[0m: Paste an API key from your profile and hit enter, or press ctrl+c to quit: \n",
            "\u001b[34m\u001b[1mwandb\u001b[0m: No netrc file found, creating one.\n",
            "\u001b[34m\u001b[1mwandb\u001b[0m: Appending key for api.wandb.ai to your netrc file: /root/.netrc\n",
            "\u001b[34m\u001b[1mwandb\u001b[0m: Currently logged in as: \u001b[33mgbend22\u001b[0m (\u001b[33mgbend22-free-university-of-tbilisi-\u001b[0m) to \u001b[32mhttps://api.wandb.ai\u001b[0m. Use \u001b[1m`wandb login --relogin`\u001b[0m to force relogin\n"
          ]
        }
      ],
      "source": [
        "!wandb login"
      ]
    },
    {
      "cell_type": "code",
      "execution_count": 38,
      "metadata": {
        "colab": {
          "base_uri": "https://localhost:8080/",
          "height": 1000
        },
        "id": "OUUU3fHtaqev",
        "outputId": "ee52a357-736b-48aa-f875-1afc2590495e"
      },
      "outputs": [
        {
          "output_type": "stream",
          "name": "stderr",
          "text": [
            "\u001b[34m\u001b[1mwandb\u001b[0m: Currently logged in as: \u001b[33mgbend22\u001b[0m (\u001b[33mgbend22-free-university-of-tbilisi-\u001b[0m) to \u001b[32mhttps://api.wandb.ai\u001b[0m. Use \u001b[1m`wandb login --relogin`\u001b[0m to force relogin\n"
          ]
        },
        {
          "output_type": "display_data",
          "data": {
            "text/plain": [
              "<IPython.core.display.HTML object>"
            ],
            "text/html": [
              "Tracking run with wandb version 0.19.11"
            ]
          },
          "metadata": {}
        },
        {
          "output_type": "display_data",
          "data": {
            "text/plain": [
              "<IPython.core.display.HTML object>"
            ],
            "text/html": [
              "Run data is saved locally in <code>/content/wandb/run-20250607_104654-47x2yv2y</code>"
            ]
          },
          "metadata": {}
        },
        {
          "output_type": "display_data",
          "data": {
            "text/plain": [
              "<IPython.core.display.HTML object>"
            ],
            "text/html": [
              "Syncing run <strong><a href='https://wandb.ai/gbend22-free-university-of-tbilisi-/ml-homework-4/runs/47x2yv2y' target=\"_blank\">base</a></strong> to <a href='https://wandb.ai/gbend22-free-university-of-tbilisi-/ml-homework-4' target=\"_blank\">Weights & Biases</a> (<a href='https://wandb.me/developer-guide' target=\"_blank\">docs</a>)<br>"
            ]
          },
          "metadata": {}
        },
        {
          "output_type": "display_data",
          "data": {
            "text/plain": [
              "<IPython.core.display.HTML object>"
            ],
            "text/html": [
              " View project at <a href='https://wandb.ai/gbend22-free-university-of-tbilisi-/ml-homework-4' target=\"_blank\">https://wandb.ai/gbend22-free-university-of-tbilisi-/ml-homework-4</a>"
            ]
          },
          "metadata": {}
        },
        {
          "output_type": "display_data",
          "data": {
            "text/plain": [
              "<IPython.core.display.HTML object>"
            ],
            "text/html": [
              " View run at <a href='https://wandb.ai/gbend22-free-university-of-tbilisi-/ml-homework-4/runs/47x2yv2y' target=\"_blank\">https://wandb.ai/gbend22-free-university-of-tbilisi-/ml-homework-4/runs/47x2yv2y</a>"
            ]
          },
          "metadata": {}
        },
        {
          "output_type": "stream",
          "name": "stdout",
          "text": [
            "Epoch 1: Train Loss = 1.7066, Val Loss = 1.4948, Train Acc = 0.3060, Val Acc = 0.4206\n",
            "Epoch 2: Train Loss = 1.4825, Val Loss = 1.3547, Train Acc = 0.4259, Val Acc = 0.4796\n",
            "Epoch 3: Train Loss = 1.3845, Val Loss = 1.3015, Train Acc = 0.4618, Val Acc = 0.5016\n",
            "Epoch 4: Train Loss = 1.3296, Val Loss = 1.2748, Train Acc = 0.4945, Val Acc = 0.5158\n",
            "Epoch 5: Train Loss = 1.2845, Val Loss = 1.2518, Train Acc = 0.5139, Val Acc = 0.5225\n",
            "Epoch 6: Train Loss = 1.2519, Val Loss = 1.2031, Train Acc = 0.5266, Val Acc = 0.5348\n",
            "Epoch 7: Train Loss = 1.2214, Val Loss = 1.1828, Train Acc = 0.5359, Val Acc = 0.5448\n",
            "Epoch 8: Train Loss = 1.1968, Val Loss = 1.1528, Train Acc = 0.5492, Val Acc = 0.5581\n",
            "Epoch 9: Train Loss = 1.1765, Val Loss = 1.1475, Train Acc = 0.5593, Val Acc = 0.5713\n",
            "Epoch 10: Train Loss = 1.1524, Val Loss = 1.1201, Train Acc = 0.5667, Val Acc = 0.5729\n",
            "Epoch 11: Train Loss = 1.1367, Val Loss = 1.1135, Train Acc = 0.5728, Val Acc = 0.5715\n",
            "Epoch 12: Train Loss = 1.1231, Val Loss = 1.1460, Train Acc = 0.5765, Val Acc = 0.5495\n",
            "Epoch 13: Train Loss = 1.1091, Val Loss = 1.1064, Train Acc = 0.5802, Val Acc = 0.5764\n",
            "Epoch 14: Train Loss = 1.0833, Val Loss = 1.1040, Train Acc = 0.5937, Val Acc = 0.5697\n",
            "Epoch 15: Train Loss = 1.0722, Val Loss = 1.1106, Train Acc = 0.6011, Val Acc = 0.5810\n",
            "Epoch 16: Train Loss = 1.0538, Val Loss = 1.0996, Train Acc = 0.6080, Val Acc = 0.5869\n",
            "Epoch 17: Train Loss = 1.0343, Val Loss = 1.1638, Train Acc = 0.6133, Val Acc = 0.5625\n",
            "Epoch 18: Train Loss = 1.0277, Val Loss = 1.0703, Train Acc = 0.6202, Val Acc = 0.5968\n",
            "Epoch 19: Train Loss = 1.0120, Val Loss = 1.0848, Train Acc = 0.6230, Val Acc = 0.5934\n",
            "Epoch 20: Train Loss = 1.0016, Val Loss = 1.0734, Train Acc = 0.6289, Val Acc = 0.5957\n",
            "Epoch 21: Train Loss = 0.9962, Val Loss = 1.0728, Train Acc = 0.6281, Val Acc = 0.5885\n",
            "Epoch 22: Train Loss = 0.9708, Val Loss = 1.1013, Train Acc = 0.6388, Val Acc = 0.5978\n",
            "Epoch 23: Train Loss = 0.9627, Val Loss = 1.0777, Train Acc = 0.6407, Val Acc = 0.6001\n",
            "Epoch 24: Train Loss = 0.9582, Val Loss = 1.1126, Train Acc = 0.6470, Val Acc = 0.5878\n",
            "Epoch 25: Train Loss = 0.9416, Val Loss = 1.0825, Train Acc = 0.6497, Val Acc = 0.6031\n"
          ]
        },
        {
          "output_type": "display_data",
          "data": {
            "text/plain": [
              "<IPython.core.display.HTML object>"
            ],
            "text/html": []
          },
          "metadata": {}
        },
        {
          "output_type": "display_data",
          "data": {
            "text/plain": [
              "<IPython.core.display.HTML object>"
            ],
            "text/html": [
              "<br>    <style><br>        .wandb-row {<br>            display: flex;<br>            flex-direction: row;<br>            flex-wrap: wrap;<br>            justify-content: flex-start;<br>            width: 100%;<br>        }<br>        .wandb-col {<br>            display: flex;<br>            flex-direction: column;<br>            flex-basis: 100%;<br>            flex: 1;<br>            padding: 10px;<br>        }<br>    </style><br><div class=\"wandb-row\"><div class=\"wandb-col\"><h3>Run history:</h3><br/><table class=\"wandb\"><tr><td>epoch</td><td>▁▁▂▂▂▂▃▃▃▄▄▄▅▅▅▅▆▆▆▇▇▇▇██</td></tr><tr><td>train_accuracy</td><td>▁▃▄▅▅▅▆▆▆▆▆▇▇▇▇▇▇▇▇██████</td></tr><tr><td>train_loss</td><td>█▆▅▅▄▄▄▃▃▃▃▃▃▂▂▂▂▂▂▂▁▁▁▁▁</td></tr><tr><td>val_accuracy</td><td>▁▃▄▅▅▅▆▆▇▇▇▆▇▇▇▇▆███▇██▇█</td></tr><tr><td>val_loss</td><td>█▆▅▄▄▃▃▂▂▂▂▂▂▂▂▁▃▁▁▁▁▂▁▂▁</td></tr></table><br/></div><div class=\"wandb-col\"><h3>Run summary:</h3><br/><table class=\"wandb\"><tr><td>epoch</td><td>25</td></tr><tr><td>train_accuracy</td><td>0.64968</td></tr><tr><td>train_loss</td><td>0.94156</td></tr><tr><td>val_accuracy</td><td>0.60311</td></tr><tr><td>val_loss</td><td>1.08254</td></tr></table><br/></div></div>"
            ]
          },
          "metadata": {}
        },
        {
          "output_type": "display_data",
          "data": {
            "text/plain": [
              "<IPython.core.display.HTML object>"
            ],
            "text/html": [
              " View run <strong style=\"color:#cdcd00\">base</strong> at: <a href='https://wandb.ai/gbend22-free-university-of-tbilisi-/ml-homework-4/runs/47x2yv2y' target=\"_blank\">https://wandb.ai/gbend22-free-university-of-tbilisi-/ml-homework-4/runs/47x2yv2y</a><br> View project at: <a href='https://wandb.ai/gbend22-free-university-of-tbilisi-/ml-homework-4' target=\"_blank\">https://wandb.ai/gbend22-free-university-of-tbilisi-/ml-homework-4</a><br>Synced 5 W&B file(s), 0 media file(s), 0 artifact file(s) and 1 other file(s)"
            ]
          },
          "metadata": {}
        },
        {
          "output_type": "display_data",
          "data": {
            "text/plain": [
              "<IPython.core.display.HTML object>"
            ],
            "text/html": [
              "Find logs at: <code>./wandb/run-20250607_104654-47x2yv2y/logs</code>"
            ]
          },
          "metadata": {}
        }
      ],
      "source": [
        "wandb.init(\n",
        "    project=\"ml-homework-4\",\n",
        "    group=\"hybrid-cnn\",\n",
        "    name=\"base\",\n",
        "    config={\n",
        "        \"learning_rate\": LR,\n",
        "        \"epochs\": EPOCHS,\n",
        "        \"batch_size\": BATCH_SIZE,\n",
        "        \"architecture\": \"CustomCNN\"\n",
        "    }\n",
        ")\n",
        "\n",
        "\n",
        "for epoch in range(EPOCHS):\n",
        "    model.train()\n",
        "    total_acc_train = 0\n",
        "    total_loss_train = 0\n",
        "    total_acc_val = 0\n",
        "    total_loss_val = 0\n",
        "\n",
        "    for inputs, labels in train_loader:\n",
        "        inputs, labels = inputs.to(device), labels.to(device)\n",
        "        optimizer.zero_grad()\n",
        "        outputs = model(inputs)\n",
        "        loss = criterion(outputs, labels)\n",
        "        loss.backward()\n",
        "        optimizer.step()\n",
        "\n",
        "        total_loss_train += loss.item()\n",
        "        total_acc_train += (outputs.argmax(1) == labels).sum().item()\n",
        "\n",
        "    model.eval()\n",
        "    with torch.no_grad():\n",
        "        for inputs, labels in val_loader:\n",
        "            inputs, labels = inputs.to(device), labels.to(device)\n",
        "            outputs = model(inputs)\n",
        "            val_loss = criterion(outputs, labels)\n",
        "            total_loss_val += val_loss.item()\n",
        "            total_acc_val += (outputs.argmax(1) == labels).sum().item()\n",
        "\n",
        "    train_acc = total_acc_train / len(train_dataset)\n",
        "    val_acc = total_acc_val / len(val_dataset)\n",
        "    train_loss = total_loss_train / len(train_loader)\n",
        "    val_loss = total_loss_val / len(val_loader)\n",
        "\n",
        "    wandb.log({\n",
        "        \"epoch\": epoch + 1,\n",
        "        \"train_loss\": train_loss,\n",
        "        \"val_loss\": val_loss,\n",
        "        \"train_accuracy\": train_acc,\n",
        "        \"val_accuracy\": val_acc\n",
        "    })\n",
        "\n",
        "    print(f\"Epoch {epoch+1}: Train Loss = {train_loss:.4f}, Val Loss = {val_loss:.4f}, Train Acc = {train_acc:.4f}, Val Acc = {val_acc:.4f}\")\n",
        "\n",
        "torch.save(model.state_dict(), \"model.pth\")\n",
        "wandb.save(\"model.pth\")\n",
        "wandb.finish()"
      ]
    },
    {
      "cell_type": "code",
      "execution_count": null,
      "metadata": {
        "id": "dt3UpwpVbC67"
      },
      "outputs": [],
      "source": []
    }
  ],
  "metadata": {
    "accelerator": "GPU",
    "colab": {
      "gpuType": "T4",
      "name": "Tips_tricks_35_loading_kaggle_data_to_colab.ipynb",
      "provenance": []
    },
    "kernelspec": {
      "display_name": "Python 3",
      "name": "python3"
    },
    "language_info": {
      "name": "python"
    }
  },
  "nbformat": 4,
  "nbformat_minor": 0
}